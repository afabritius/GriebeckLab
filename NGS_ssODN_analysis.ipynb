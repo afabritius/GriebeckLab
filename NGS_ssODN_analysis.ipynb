{
 "cells": [
  {
   "cell_type": "markdown",
   "metadata": {},
   "source": [
    "$Author:$ Arne Fabritius\n",
    "<br>\n",
    "$Institution:$ Max Planck Institute for Neurobiology\n",
    "<br>\n",
    "$Group:$ Tools for Bioimaging, Oliver Griesbeck\n",
    "<br>\n",
    "$Revised:$ 2020-02-06\n",
    "<br>\n",
    "$Reference:$ \n",
    "<br>\n",
    "Erdogan, M., Fabritius, A., Basquin, J. and Griesbeck, O.\n",
    "<br>\n",
    "Targeted In Situ Protein Diversification and Intra-Organelle Validation in Mammalian Cells,\n",
    "<br>\n",
    "Cell Chemical Biology, 2020\n",
    "<br>\n",
    "$Purpose:$ \n",
    "Analysis of next generation sequencing data for partially randomized \n",
    "<br>\n",
    "single strand oligonucleotides, used as repair templates for a CRISPR/cas9\n",
    "<br>\n",
    "targeted repair of the fluorescent protein mRuby3 for the purpose of creating a diversified library."
   ]
  },
  {
   "cell_type": "markdown",
   "metadata": {},
   "source": [
    "### Data"
   ]
  },
  {
   "cell_type": "markdown",
   "metadata": {},
   "source": [
    "Raw data was deposited into the Squence Read Archive (SRA) of the U.S. National Library of Medicine \n",
    "<br>\n",
    "from the National Center for Biotechnoly Information (NCBI) \n",
    "<br>\n",
    "Accession numbers:\n",
    "<br>\n",
    "SAMN14055904 - diversified oligonucleotides \n"
   ]
  },
  {
   "cell_type": "markdown",
   "metadata": {},
   "source": [
    "### Libraries to import"
   ]
  },
  {
   "cell_type": "code",
   "execution_count": 1,
   "metadata": {},
   "outputs": [],
   "source": [
    "### basic \n",
    "import re\n",
    "import numpy as np\n",
    "\n",
    "### plotting\n",
    "import matplotlib.pyplot as plt\n",
    "import seaborn as sns\n",
    "\n",
    "### handling of sequence data\n",
    "from Bio.Seq import Seq                         \n",
    "from Bio import SeqIO\n",
    "from Bio.Alphabet import IUPAC     \n",
    "\n",
    "%matplotlib inline"
   ]
  },
  {
   "cell_type": "markdown",
   "metadata": {},
   "source": [
    "### Code"
   ]
  },
  {
   "cell_type": "code",
   "execution_count": 2,
   "metadata": {},
   "outputs": [
    {
     "name": "stderr",
     "output_type": "stream",
     "text": [
      "C:\\ProgramData\\Anaconda3\\lib\\site-packages\\ipykernel_launcher.py:23: DeprecationWarning: 'U' mode is deprecated\n"
     ]
    },
    {
     "name": "stdout",
     "output_type": "stream",
     "text": [
      "Total of 3367059 sequences processed\n",
      "Total of 1189905 sequences with >Q30\n",
      "Total of 35.3 % sequences with >Q30\n",
      "Wall time: 1min 16s\n"
     ]
    }
   ],
   "source": [
    "%%time\n",
    "# This script takes single reads from Illumina MiSeq of a single strand oligonucleotide library in fastq format as input.\n",
    "# The script filters all sequences acording to phred quality scores > 30 for each position and creates a new fasta file, \n",
    "# which is used in further analysis\n",
    "\n",
    "\n",
    "### input section \n",
    "\n",
    "### input-file location and filename \n",
    "folder=\"\"\n",
    "filename = \"LysoRyb-3_S1_L001_R1_001.fastq\"\n",
    "infile = folder+filename\n",
    "\n",
    "\n",
    "### output-file location and filename\n",
    "outfile= open(folder+re.split(\".fastq\",filename)[0]+\"_Q30.fasta\",\"w\")\n",
    "\n",
    "###############################################################################################################################\n",
    "\n",
    "### initialize counters\n",
    "count=0\n",
    "count_Q30=0\n",
    "\n",
    "### loop through input file and filter for Q>30 \n",
    "with open(infile, \"rU\") as handle_file:\n",
    "    for record in SeqIO.parse(handle_file, \"fastq\"):\n",
    "        count+=1\n",
    "        if min(record.letter_annotations[\"phred_quality\"]) >= 30:\n",
    "            outfile.write(\">\" + record.id + \"\\n\")\n",
    "            outfile.write(str(record.seq) + \"\\n\")\n",
    "            count_Q30+=1\n",
    "\n",
    "            \n",
    "### output \n",
    "outfile.close()        \n",
    "print (\"Total of %7d sequences processed\" % (count))\n",
    "print (\"Total of %7d sequences with >Q30\" % (count_Q30))\n",
    "print (\"Total of %4.1f %% sequences with >Q30\" % (count_Q30/float(count)*100))"
   ]
  },
  {
   "cell_type": "code",
   "execution_count": 7,
   "metadata": {},
   "outputs": [
    {
     "name": "stderr",
     "output_type": "stream",
     "text": [
      "C:\\ProgramData\\Anaconda3\\lib\\site-packages\\ipykernel_launcher.py:26: DeprecationWarning: 'U' mode is deprecated\n"
     ]
    },
    {
     "name": "stdout",
     "output_type": "stream",
     "text": [
      " 472295 sequences have valid roi\n",
      " 402430 sequences have correct length\n",
      "Wall time: 9.51 s\n"
     ]
    }
   ],
   "source": [
    "%%time\n",
    "# This script processes a fasta file, which contains single reads filtered for a quality score of Q>30 for all bases.  \n",
    "\n",
    "### input section \n",
    "\n",
    "### input-file location and filename \n",
    "folder=\"\"\n",
    "filename=\"LysoRyb-3_S1_L001_R1_001_Q30.fasta\"\n",
    "\n",
    "### sequences which identify region of interest \n",
    "ID_head = re.compile(\"CCCGTGATGCAGAAG\")\n",
    "ID_tail = re.compile(\"GGTGGTGGCCATCTG\")\n",
    "\n",
    "###############################################################################################################################\n",
    "\n",
    "infile = folder+filename\n",
    "\n",
    "### initialize counters\n",
    "count=0\n",
    "count_len_cor=0\n",
    "### initialize dictionaries\n",
    "length_dict ={}             ### length dictionary\n",
    "DNA_dic ={}                 ### doctionary of unique DNA sequences of correct length\n",
    "\n",
    "### loop through fasta file \n",
    "with open(infile, \"rU\") as handle_file:\n",
    "    for record in SeqIO.parse(handle_file, \"fasta\"):\n",
    "        DNA = str(record.seq)\n",
    "        if ID_head.search(DNA) and ID_tail.search(DNA):\n",
    "            count+=1\n",
    "            DNA_1 = re.split(ID_head,DNA)[1]\n",
    "            DNA_2 = re.split(ID_tail,DNA_1)[0]\n",
    "            \n",
    "            if len(DNA_2) not in length_dict:\n",
    "                length_dict[len(DNA_2)] = 1\n",
    "            elif len(DNA_2) in length_dict:\n",
    "                length_dict[len(DNA_2)]+= 1\n",
    "                \n",
    "            if len(DNA_2) == 90:\n",
    "                count_len_cor+=1\n",
    "                if DNA_2 not in DNA_dic:\n",
    "                    DNA_dic[DNA_2]=1\n",
    "                elif DNA_2 in DNA_dic:\n",
    "                    DNA_dic[DNA_2]+=1\n",
    "\n",
    "                    \n",
    "### output\n",
    "print(\" %d sequences have valid roi\" % count)\n",
    "print(\" %d sequences have correct length\" % count_len_cor)"
   ]
  },
  {
   "cell_type": "code",
   "execution_count": 8,
   "metadata": {},
   "outputs": [
    {
     "name": "stdout",
     "output_type": "stream",
     "text": [
      " 340219 unique variants on protein level\n"
     ]
    }
   ],
   "source": [
    "### library for protein sequences in full sequenced region\n",
    "\n",
    "long_peptide_lib = {}\n",
    "\n",
    "### loops through unique DNA dictionary, translates DNA\n",
    "for dna in DNA_dic.keys():\n",
    "    peptide = str(Seq(dna, IUPAC.unambiguous_dna).translate())\n",
    "    \n",
    "    ### creates a dicionary of unique protein sequences and counts them\n",
    "    if peptide not in long_peptide_lib:\n",
    "        long_peptide_lib[peptide] = DNA_dic[dna]\n",
    "    elif peptide in long_peptide_lib:\n",
    "        long_peptide_lib[peptide] += DNA_dic[dna]\n",
    "\n",
    "### output\n",
    "print(\" %d unique variants on protein level\" % len(long_peptide_lib))"
   ]
  },
  {
   "cell_type": "code",
   "execution_count": 14,
   "metadata": {},
   "outputs": [
    {
     "name": "stdout",
     "output_type": "stream",
     "text": [
      " 401740 unique variants in modified region on DNA level\n",
      " 337091 unique variants in modified region on protein level\n"
     ]
    }
   ],
   "source": [
    "### library for DNA/protein sequences in modified region P146 N147 E149 T162 I164\n",
    "oligo_lib={}       ### library for unique DNA sequences\n",
    "peptide_lib = {}   ### library for unique protein sequences\n",
    "\n",
    "\n",
    "### loops through unique DNA sequences with correct length, pics modified position and extracts DNA sequence of position\n",
    "for dna in DNA_dic.keys():\n",
    "    oligo = dna[18:24]+dna[27:30]+dna[66:69]+dna[72:75]\n",
    "    if oligo not in oligo_lib:\n",
    "        oligo_lib[oligo] = DNA_dic[dna]\n",
    "    elif oligo in oligo_lib:\n",
    "        oligo_lib[oligo] += DNA_dic[dna]\n",
    "\n",
    "### loops through unique DNA sequences, translates DNA and adds unique protein sequences to dictionary        \n",
    "for oligo in oligo_lib:\n",
    "    peptide = str(Seq(oligo, IUPAC.unambiguous_dna).translate())\n",
    "    \n",
    "    if peptide not in peptide_lib:\n",
    "        peptide_lib[peptide] = oligo_lib[oligo]\n",
    "    elif peptide in peptide_lib:\n",
    "        peptide_lib[peptide] += oligo_lib[oligo]        \n",
    "\n",
    "### output\n",
    "\n",
    "print(\" %d unique variants in modified region on DNA level\" % len(oligo_lib))\n",
    "print(\" %d unique variants in modified region on protein level\" % len(peptide_lib))   "
   ]
  },
  {
   "cell_type": "markdown",
   "metadata": {},
   "source": [
    "### Figure 3"
   ]
  },
  {
   "cell_type": "code",
   "execution_count": 16,
   "metadata": {},
   "outputs": [
    {
     "data": {
      "image/png": "[encoded data removed]",
      "text/plain": [
       "<Figure size 1440x720 with 1 Axes>"
      ]
     },
     "metadata": {
      "needs_background": "light"
     },
     "output_type": "display_data"
    }
   ],
   "source": [
    "### Plot for Figure 3B\n",
    "\n",
    "### calculate frequency for each base within unique DNA variants \n",
    "\n",
    "base_counter = np.zeros((4,15))      ### initialize counting table\n",
    "bases = [\"A\",\"C\", \"G\",\"T\"]           ### look-up list for bases\n",
    "\n",
    "### loop through DNA sequences in modified region\n",
    "for oligo in oligo_lib.keys():\n",
    "    for i in range(0,len(oligo)):\n",
    "        for n in range(0,len(bases)):\n",
    "            if oligo[i] == bases[n]:\n",
    "                base_counter[n,i]+=1\n",
    "                \n",
    "### calculate observed base frequency in each position                \n",
    "base_freq = base_counter/float(sum(base_counter[0:4,0]))*100  \n",
    "\n",
    "### plot bars\n",
    "plt.figure(figsize=(20,10))\n",
    "p1 = plt.bar(np.arange(len(base_freq[0])),base_freq[0], color=\"#B2B2B2\")\n",
    "p2 = plt.bar(np.arange(len(base_freq[0])),base_freq[1], color =\"#D5D4D4\", bottom=base_freq[0])\n",
    "p3 = plt.bar(np.arange(len(base_freq[0])),base_freq[2], color =\"#9F9C9B\", bottom=base_freq[0]+base_freq[1])\n",
    "p4 = plt.bar(np.arange(len(base_freq[0])),base_freq[3], color =\"#5A5654\", bottom=base_freq[0]+base_freq[1]+base_freq[2])\n",
    "\n",
    "### figure parameters \n",
    "axes = plt.gca()\n",
    "axes.set_ylim([0,100])\n",
    "axes.set_xlim([-1,12])\n",
    "plt.legend((p1,p2,p3,p4),(\"A\",\"C\",\"G\",\"T\"), loc = 0, fancybox=True, fontsize=25)\n",
    "\n",
    "### lables \n",
    "plt.yticks(np.arange(0,100,25))\n",
    "plt.xticks(np.arange(0,18,1),[436,437,438,439,440,441,445,446,447,484,485,486, 490,491,492])\n",
    "plt.ylabel('Frequency (%)', fontsize=20)\n",
    "plt.xlabel('nucleotide position', fontsize=20)\n",
    "\n",
    "### saving vectorized figure\n",
    "plt.savefig(\"Figure_3B_ssODN.svg\")   \n",
    "\n",
    "### output\n",
    "plt.show()"
   ]
  },
  {
   "cell_type": "code",
   "execution_count": 19,
   "metadata": {},
   "outputs": [
    {
     "data": {
      "image/png": "[encoded data removed]",
      "text/plain": [
       "<Figure size 720x576 with 1 Axes>"
      ]
     },
     "metadata": {
      "needs_background": "light"
     },
     "output_type": "display_data"
    }
   ],
   "source": [
    "### Plot for Figure 3C\n",
    "\n",
    "\n",
    "### list of amino acids \n",
    "amino_acids = np.array((\"H\",\"K\",\"R\",\"D\",\"E\",\"C\",\"M\",\"N\",\"Q\",\"S\",\"T\",\"A\",\"I\",\"L\",\"V\",\"F\",\"W\",\"Y\",\"G\",\"P\",\"*\"))\n",
    "### list of number of codons for each amino acid when NNB is used as codon\n",
    "codn_freq_NNB = np.array((2,1,4,2,1,2,1,2,1,5,3,3,2,4,3, 2,1,2,3,3,1))\n",
    "\n",
    "\n",
    "peptide_counter_lib = {}                  ### initialize amino acid library\n",
    "unique_counting_table = np.zeros((5,21))  ### initialize counting table\n",
    "\n",
    "### loop through DNA library in modified position, translate and add to amino acid library\n",
    "for oligo in oligo_lib:\n",
    "    peptide = str(Seq(oligo, IUPAC.unambiguous_dna).translate())\n",
    "    \n",
    "    if peptide not in peptide_counter_lib:\n",
    "        peptide_counter_lib[peptide] = 1\n",
    "    elif peptide in peptide_lib:\n",
    "        peptide_counter_lib[peptide] +=1 \n",
    "\n",
    "### count amino acids in modified region \n",
    "\n",
    "for peptide in peptide_counter_lib.keys():\n",
    "    for i in range(0,5):\n",
    "        for n in range(0,21):\n",
    "            if peptide[i] == amino_acids[n]:\n",
    "                unique_counting_table[i,n] += peptide_counter_lib[peptide]\n",
    "\n",
    "### calculate observed and expected frequency for each amino acid                \n",
    "unique_observed_freq = np.sum(unique_counting_table, axis=0)/np.sum(unique_counting_table)\n",
    "expected_freq = codn_freq_NNB/float(sum(codn_freq_NNB))\n",
    "\n",
    "\n",
    "### figure parameters\n",
    "plt.figure(figsize=(10,8))\n",
    "plt.xlim(-8,2)\n",
    "plt.ylim(-1,21)\n",
    "\n",
    "\n",
    "### labels \n",
    "plt.tick_params(axis='y', which='both', labelleft=False, labelright=True)\n",
    "plt.yticks(range(0,21),amino_acids[::-1])\n",
    "plt.ylabel('amino acids', labelpad=-600, fontsize=18)\n",
    "plt.xlabel(\"log2 fold change\", fontsize=18)\n",
    "plt.plot((np.log2(unique_observed_freq)-np.log2(expected_freq))[::-1],range(0,21),\n",
    "         marker = '^', linestyle = '', markerfacecolor='#9D9D9C', markeredgecolor='k', markersize=13);\n",
    "\n",
    "\n",
    "### save vectorized image \n",
    "plt.savefig(\"Figure_3C_ssODN.svg\")"
   ]
  },
  {
   "cell_type": "markdown",
   "metadata": {},
   "source": [
    "### Supplementary Figure 4"
   ]
  },
  {
   "cell_type": "code",
   "execution_count": 10,
   "metadata": {},
   "outputs": [
    {
     "data": {
      "image/png": "[encoded data removed]",
      "text/plain": [
       "<Figure size 1440x216 with 1 Axes>"
      ]
     },
     "metadata": {
      "needs_background": "light"
     },
     "output_type": "display_data"
    }
   ],
   "source": [
    "### Plot for Supplementary Figure 4  top\n",
    "\n",
    "\n",
    "### generate x-label from wt DNA sequence\n",
    "wt_seq = \"AAGACCAAGGGTTGGGAGCCTAATACAGAGATGATGTATCCAGCAGATGGTGGTCTGAGGGGATACACTGATATTGCACTGAAAGTTGAT\"\n",
    "\n",
    "label_list = []\n",
    "for i in str(Seq(wt_seq, IUPAC.unambiguous_dna).translate()):\n",
    "    label_list.append(i)\n",
    "\n",
    "counter_array = np.zeros(30) ### initialize counter\n",
    "\n",
    "### loop through protein library and counts occurcane of none-wt amino acids in each position\n",
    "for peptide in long_peptide_lib.keys():\n",
    "    for i in range(0,30):\n",
    "        if peptide[i] != label_list[i]:\n",
    "            counter_array[i] += long_peptide_lib[peptide]\n",
    "\n",
    "### figure parameters              \n",
    "plt.figure(figsize=(20,3))\n",
    "plt.yscale('log')\n",
    "plt.ylim(100,1000000)\n",
    "plt.xlim(-1,30)\n",
    "\n",
    "\n",
    "plt.scatter(range(0,30),counter_array,c=np.log10(counter_array), vmin=0, vmax=6, marker=\"^\", s=80, cmap=\"RdPu\")\n",
    "\n",
    "## lables\n",
    "plt.xticks(range(0,30), label_list);\n",
    "\n",
    "### saving vectorized figure\n",
    "plt.savefig(\"Supplementary_Figure_4_1.svg\")    "
   ]
  },
  {
   "cell_type": "code",
   "execution_count": 12,
   "metadata": {},
   "outputs": [
    {
     "name": "stderr",
     "output_type": "stream",
     "text": [
      "C:\\ProgramData\\Anaconda3\\lib\\site-packages\\ipykernel_launcher.py:27: RuntimeWarning: divide by zero encountered in log10\n"
     ]
    },
    {
     "data": {
      "image/png": "[encoded data removed]",
      "text/plain": [
       "<Figure size 1440x576 with 2 Axes>"
      ]
     },
     "metadata": {
      "needs_background": "light"
     },
     "output_type": "display_data"
    }
   ],
   "source": [
    "### Plot for Supplementary Figure 4 bottom:\n",
    "\n",
    "### list of amino acids\n",
    "amino_acids = np.array((\"H\",\"K\",\"R\",\"D\",\"E\",\"C\",\"M\",\"N\",\"Q\",\"S\",\"T\",\"A\",\"I\",\"L\",\"V\",\"F\",\"W\",\"Y\",\"G\",\"P\",\"*\"))\n",
    "### initialize counting table \n",
    "long_counting_table = np.zeros((30,21))\n",
    "\n",
    "### loop through protein library and count amino acids in each position \n",
    "for peptide in long_peptide_lib.keys():\n",
    "    for i in range(0,30):\n",
    "        for n in range(0,21):\n",
    "            if peptide[i] == amino_acids[n]:\n",
    "                long_counting_table[i,n] += long_peptide_lib[peptide]\n",
    "\n",
    "                \n",
    "                \n",
    "### figure parameters                \n",
    "plt.figure(figsize=(20,8))\n",
    "\n",
    "### lables\n",
    "ax = plt.axes()\n",
    "ax.xaxis.set_ticks_position('top');\n",
    "\n",
    "\n",
    "\n",
    "\n",
    "sns.heatmap(np.log10(long_counting_table/float(sum(long_peptide_lib.values()))*100).transpose(),\n",
    "            vmin=-4,vmax=2, cmap=\"RdPu\", xticklabels=label_list,yticklabels=amino_acids,\n",
    "            cbar_kws={\"orientation\": \"vertical\"}, square =True );\n",
    "\n",
    "plt.yticks(rotation=0);\n",
    "\n",
    "### save vectorized figure\n",
    "plt.savefig(\"Supplementary_Figure_4_2.svg\")"
   ]
  },
  {
   "cell_type": "markdown",
   "metadata": {},
   "source": [
    "### Supplementary Figure 5"
   ]
  },
  {
   "cell_type": "code",
   "execution_count": 21,
   "metadata": {},
   "outputs": [
    {
     "data": {
      "image/png": "[encoded data removed]",
      "text/plain": [
       "<Figure size 1440x576 with 1 Axes>"
      ]
     },
     "metadata": {
      "needs_background": "light"
     },
     "output_type": "display_data"
    }
   ],
   "source": [
    "### Plot for Suplementary Figure 5 A left\n",
    "\n",
    "### define figure parameters\n",
    "plt.figure(figsize=(20,8))\n",
    "plt.yscale('log')\n",
    "plt.ylim(1,1000000)\n",
    "plt.xlim(550,920)\n",
    "\n",
    "### differenciate between in frame and out of frame, plot blue and red respectively\n",
    "for key in length_dict.keys():\n",
    "    if key % 3 == 0:\n",
    "        plt.bar(key+618,length_dict[key],width=1,linewidth=0.2,color=\"blue\");\n",
    "    else:\n",
    "        plt.bar(key+618,length_dict[key],width=1,linewidth=0.2,color=\"red\");\n",
    "        \n",
    "### saving vectorized figure \n",
    "plt.savefig(\"Supplementary_Figure_5A.SVG\")      "
   ]
  },
  {
   "cell_type": "code",
   "execution_count": 20,
   "metadata": {},
   "outputs": [
    {
     "name": "stdout",
     "output_type": "stream",
     "text": [
      "in frame: 88.3 % out of frame: 11.7 %\n"
     ]
    }
   ],
   "source": [
    "### Supplementary Figure 5 B\n",
    "\n",
    "### count in-frame and out of frame variants\n",
    "\n",
    "frame_counter = np.zeros(2)  ### initialize \n",
    "\n",
    "### loops through all lengths and checks if in frame or not and counts instances \n",
    "for length in length_dict.keys():\n",
    "    if (length) % 3 == 0:\n",
    "        frame_counter[0] += length_dict[length]\n",
    "    else:\n",
    "        frame_counter[1] += length_dict[length]\n",
    "\n",
    "### calculate percent \n",
    "ratios = frame_counter/float(sum(frame_counter))*100     \n",
    "\n",
    "### output \n",
    "print(\"in frame: %2.1f %% out of frame: %2.1f %%\" % (ratios[0],ratios[1]))"
   ]
  }
 ],
 "metadata": {
  "kernelspec": {
   "display_name": "Python 3",
   "language": "python",
   "name": "python3"
  },
  "language_info": {
   "codemirror_mode": {
    "name": "ipython",
    "version": 3
   },
   "file_extension": ".py",
   "mimetype": "text/x-python",
   "name": "python",
   "nbconvert_exporter": "python",
   "pygments_lexer": "ipython3",
   "version": "3.7.3"
  }
 },
 "nbformat": 4,
 "nbformat_minor": 2
}
